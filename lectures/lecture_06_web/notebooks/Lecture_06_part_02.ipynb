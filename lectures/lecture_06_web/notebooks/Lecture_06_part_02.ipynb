{
 "cells": [
  {
   "cell_type": "markdown",
   "metadata": {},
   "source": [
    "# Маршрутизация запросов (роутинг)"
   ]
  },
  {
   "cell_type": "code",
   "execution_count": null,
   "metadata": {
    "scrolled": true
   },
   "outputs": [
    {
     "name": "stdout",
     "output_type": "stream",
     "text": [
      " * Serving Flask app \"__main__\" (lazy loading)\n",
      " * Environment: production\n",
      "   WARNING: Do not use the development server in a production environment.\n",
      "   Use a production WSGI server instead.\n",
      " * Debug mode: off\n"
     ]
    },
    {
     "name": "stderr",
     "output_type": "stream",
     "text": [
      " * Running on http://127.0.0.1:5000/ (Press CTRL+C to quit)\n",
      "127.0.0.1 - - [25/Oct/2019 17:59:34] \"GET / HTTP/1.1\" 404 -\n",
      "127.0.0.1 - - [25/Oct/2019 17:59:34] \"GET /favicon.ico HTTP/1.1\" 404 -\n",
      "127.0.0.1 - - [25/Oct/2019 17:59:41] \"GET / HTTP/1.1\" 404 -\n",
      "127.0.0.1 - - [25/Oct/2019 17:59:50] \"GET /user_info/123 HTTP/1.1\" 308 -\n",
      "127.0.0.1 - - [25/Oct/2019 17:59:50] \"GET /user_info/123/ HTTP/1.1\" 200 -\n",
      "127.0.0.1 - - [25/Oct/2019 18:00:09] \"GET /user_info/gg/ HTTP/1.1\" 200 -\n",
      "127.0.0.1 - - [25/Oct/2019 18:00:26] \"GET /user_info/[1,2]/ HTTP/1.1\" 200 -\n",
      "127.0.0.1 - - [25/Oct/2019 18:00:32] \"GET /user_info/1/ HTTP/1.1\" 200 -\n",
      "127.0.0.1 - - [25/Oct/2019 18:00:47] \"GET /user_info/int/1 HTTP/1.1\" 404 -\n",
      "127.0.0.1 - - [25/Oct/2019 18:00:57] \"GET /user_info_int/1 HTTP/1.1\" 308 -\n",
      "127.0.0.1 - - [25/Oct/2019 18:00:57] \"GET /user_info_int/1/ HTTP/1.1\" 200 -\n",
      "127.0.0.1 - - [25/Oct/2019 18:01:03] \"GET /user_info_int/rr/ HTTP/1.1\" 404 -\n",
      "127.0.0.1 - - [25/Oct/2019 18:01:10] \"GET /user_info_int/12r/ HTTP/1.1\" 404 -\n",
      "127.0.0.1 - - [25/Oct/2019 18:01:13] \"GET /user_info_int/12 HTTP/1.1\" 308 -\n",
      "127.0.0.1 - - [25/Oct/2019 18:01:13] \"GET /user_info_int/12/ HTTP/1.1\" 200 -\n",
      "127.0.0.1 - - [25/Oct/2019 18:01:42] \"GET /user_info_two/12/ HTTP/1.1\" 404 -\n",
      "127.0.0.1 - - [25/Oct/2019 18:01:46] \"GET /user_info_two/12/14 HTTP/1.1\" 308 -\n",
      "127.0.0.1 - - [25/Oct/2019 18:01:46] \"GET /user_info_two/12/14/ HTTP/1.1\" 200 -\n"
     ]
    }
   ],
   "source": [
    "from flask import Flask\n",
    "\n",
    "app = Flask(__name__)\n",
    "\n",
    "# export FLASK_ENV=development\n",
    "# export FLASK_APP=server.py\n",
    "# flask run --host=127.0.0.1\n",
    "\n",
    "\n",
    "@app.route('/user_info/<user_id>/')\n",
    "def user_info_handler(user_id):\n",
    "    return f'user_info_handler: str:{isinstance(user_id, str)} -> {user_id}'\n",
    "\n",
    "\n",
    "@app.route('/user_info_int/<int:user_id>/')\n",
    "def user_info_int_handler(user_id):\n",
    "    return f'user_info_int_handler: int:{isinstance(user_id, int)} -> {user_id}'\n",
    "\n",
    "\n",
    "@app.route('/user_info_two/<int:user_id1>/<int:user_id2>/')\n",
    "def user_info_two_handler(user_id1, user_id2):\n",
    "    return f\"user_info_two_handler: {','.join(map(str, (user_id1, user_id2)))}\"\n",
    "\n",
    "app.run()"
   ]
  },
  {
   "cell_type": "markdown",
   "metadata": {},
   "source": [
    "# Журналирование"
   ]
  },
  {
   "cell_type": "code",
   "execution_count": null,
   "metadata": {},
   "outputs": [],
   "source": [
    "# Конфигурация журналирования\n",
    "LOGGING = {\n",
    "    'version': 1,\n",
    "    'formatters': {  # Форматирование сообщения\n",
    "        'simple': {\n",
    "            'format': '[%(asctime)s] %(levelname)s %(module)s %(message)s',\n",
    "            'datefmt': '%Y-%m-%d %H:%M:%S'\n",
    "        },\n",
    "    },\n",
    "\n",
    "    'handlers': {  # Обработчикаи сообщений\n",
    "        'api_log_handler': {\n",
    "            'class': 'logging.FileHandler',\n",
    "            'filename': '/tmp/api_log.text',\n",
    "        },\n",
    "        'streamlogger': {\n",
    "            'class': 'logging.StreamHandler',\n",
    "            'formatter': 'simple',\n",
    "        },\n",
    "    },\n",
    "\n",
    "    'loggers': {   # Логгеры\n",
    "        'api_logger': {\n",
    "            'handlers': ['api_log_handler', 'streamlogger'],\n",
    "            'level': 'INFO',\n",
    "        },\n",
    "        'debug_logger': {\n",
    "            'handlers': ['streamlogger'],\n",
    "            'level': 'DEBUG',\n",
    "        },\n",
    "    },\n",
    "}\n",
    "\n",
    "\n",
    "\n",
    "import logging.config\n",
    "logging.config.dictConfig(LOGGING)"
   ]
  },
  {
   "cell_type": "code",
   "execution_count": null,
   "metadata": {},
   "outputs": [],
   "source": []
  },
  {
   "cell_type": "code",
   "execution_count": null,
   "metadata": {},
   "outputs": [],
   "source": [
    "# Использование логгеров\n",
    "import logging\n",
    "\n",
    "api_logger = logging.getLogger('api_logger')\n",
    "api_logger.info('api_logger: info message')\n",
    "api_logger.debug('api_logger: debug message')\n",
    "\n",
    "debbug_logger = logging.getLogger('debug_logger')\n",
    "debbug_logger.info('debug_logger: info message')\n",
    "debbug_logger.debug('debug_logger: debug message')"
   ]
  },
  {
   "cell_type": "code",
   "execution_count": null,
   "metadata": {},
   "outputs": [],
   "source": [
    "# Передача контекстных параметров\n",
    "\n",
    "class CustomAdapter(logging.LoggerAdapter):\n",
    "    \"\"\"\n",
    "    This example adapter expects the passed in dict-like object to have a\n",
    "    'connid' key, whose value in brackets is prepended to the log message.\n",
    "    \"\"\"\n",
    "    def process(self, msg, kwargs):\n",
    "        return '[quid=%s] %s' % (self.extra['quid'], msg), kwargs"
   ]
  },
  {
   "cell_type": "code",
   "execution_count": null,
   "metadata": {},
   "outputs": [],
   "source": [
    "logger = logging.getLogger('api_logger')\n",
    "\n",
    "quid = '123214465745'\n",
    "adapter = CustomAdapter(logger, {'quid': quid})\n",
    "\n",
    "adapter.info(\"Request complete\")"
   ]
  },
  {
   "cell_type": "markdown",
   "metadata": {},
   "source": [
    "# Пример проекта Flask"
   ]
  },
  {
   "cell_type": "code",
   "execution_count": null,
   "metadata": {},
   "outputs": [],
   "source": [
    "# server_p2.py"
   ]
  },
  {
   "cell_type": "markdown",
   "metadata": {},
   "source": [
    "# Работа со временем"
   ]
  },
  {
   "cell_type": "code",
   "execution_count": null,
   "metadata": {},
   "outputs": [],
   "source": [
    "import time\n",
    "\n",
    "tt = time.time()\n",
    "time.sleep(10)\n",
    "time.time() - tt"
   ]
  },
  {
   "cell_type": "code",
   "execution_count": null,
   "metadata": {},
   "outputs": [],
   "source": [
    "# timestamp\n",
    "tt"
   ]
  },
  {
   "cell_type": "code",
   "execution_count": null,
   "metadata": {},
   "outputs": [],
   "source": [
    "tp = time.perf_counter()\n",
    "time.sleep(10)\n",
    "time.perf_counter() - tp"
   ]
  },
  {
   "cell_type": "code",
   "execution_count": null,
   "metadata": {},
   "outputs": [],
   "source": [
    "tp"
   ]
  },
  {
   "cell_type": "code",
   "execution_count": null,
   "metadata": {},
   "outputs": [],
   "source": [
    "import ipdb; ipdb.set_trace()"
   ]
  }
 ],
 "metadata": {
  "kernelspec": {
   "display_name": "Python 3",
   "language": "python",
   "name": "python3"
  },
  "language_info": {
   "codemirror_mode": {
    "name": "ipython",
    "version": 3
   },
   "file_extension": ".py",
   "mimetype": "text/x-python",
   "name": "python",
   "nbconvert_exporter": "python",
   "pygments_lexer": "ipython3",
   "version": "3.7.3"
  }
 },
 "nbformat": 4,
 "nbformat_minor": 4
}
