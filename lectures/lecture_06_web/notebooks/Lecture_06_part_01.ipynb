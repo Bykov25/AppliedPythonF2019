{
 "cells": [
  {
   "cell_type": "markdown",
   "metadata": {},
   "source": [
    "```sh\n",
    "# Установка python3.7\n",
    "sudo apt update\n",
    "sudo add-apt-repository ppa:deadsnakes/ppa\n",
    "sudo apt install python3.7\n",
    "\n",
    "# Установка виртуального окружения\n",
    "sudo apt-get install python3.7-venv\n",
    "python3.7 -m venv ~/.virtualenvs/atomPython\n",
    "source ~/.virtualenvs/atomPython/bin/activate\n",
    "\n",
    "# Если уже устанавливали\n",
    "source ~/.virtualenvs/atomPython/bin/activate\n",
    "\n",
    "# Установка пакетов\n",
    "pip install -r requirements_web.txt\n",
    "ipython kernel install --user --name=atom\n",
    "```"
   ]
  },
  {
   "cell_type": "code",
   "execution_count": null,
   "metadata": {
    "jupyter": {
     "outputs_hidden": false
    },
    "scrolled": true
   },
   "outputs": [
    {
     "name": "stdout",
     "output_type": "stream",
     "text": [
      " * Serving Flask app \"__main__\" (lazy loading)\n",
      " * Environment: production\n",
      "   WARNING: This is a development server. Do not use it in a production deployment.\n",
      "   Use a production WSGI server instead.\n",
      " * Debug mode: off\n"
     ]
    },
    {
     "name": "stderr",
     "output_type": "stream",
     "text": [
      " * Running on http://0.0.0.0:5000/ (Press CTRL+C to quit)\n",
      "127.0.0.1 - - [25/Oct/2019 17:54:51] \"GET / HTTP/1.1\" 404 -\n"
     ]
    }
   ],
   "source": [
    "import requests\n",
    "from flask import Flask\n",
    "app = Flask(__name__)\n",
    "\n",
    "@app.route(\"/hello\")\n",
    "def hello():\n",
    "    return \"Hello World!\"\n",
    "\n",
    "if __name__ == \"__main__\":\n",
    "    app.run(host='0.0.0.0')"
   ]
  },
  {
   "cell_type": "code",
   "execution_count": null,
   "metadata": {},
   "outputs": [],
   "source": [
    "#TODO отправим запрос на локальный сервер"
   ]
  },
  {
   "cell_type": "code",
   "execution_count": null,
   "metadata": {},
   "outputs": [],
   "source": [
    "#TODO отправим запрос на локальный сервер по пути /, /goodbye, /smth"
   ]
  }
 ],
 "metadata": {
  "anaconda-cloud": {},
  "kernelspec": {
   "display_name": "Python 3",
   "language": "python",
   "name": "python3"
  },
  "language_info": {
   "codemirror_mode": {
    "name": "ipython",
    "version": 3
   },
   "file_extension": ".py",
   "mimetype": "text/x-python",
   "name": "python",
   "nbconvert_exporter": "python",
   "pygments_lexer": "ipython3",
   "version": "3.7.3"
  }
 },
 "nbformat": 4,
 "nbformat_minor": 4
}
